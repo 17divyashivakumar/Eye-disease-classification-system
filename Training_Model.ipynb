{
 "cells": [
  {
   "cell_type": "code",
   "execution_count": 7,
   "metadata": {},
   "outputs": [],
   "source": [
    "import tensorflow as tf\n",
    "import matplotlib.pyplot as plt\n",
    "import pandas as pd\n",
    "import seaborn as sns\n",
    "import pickle\n",
    "from tensorflow.keras.utils import image_dataset_from_directory"
   ]
  },
  {
   "cell_type": "code",
   "execution_count": 8,
   "metadata": {},
   "outputs": [
    {
     "name": "stdout",
     "output_type": "stream",
     "text": [
      "Found 76515 files belonging to 4 classes.\n"
     ]
    }
   ],
   "source": [
    "training_set = image_dataset_from_directory(\n",
    "    'train',\n",
    "    labels=\"inferred\",\n",
    "    label_mode=\"categorical\",\n",
    "    class_names=None,\n",
    "    color_mode=\"rgb\",\n",
    "    batch_size=32,\n",
    "    image_size=(224, 224),\n",
    "    shuffle=True,\n",
    "    seed=None,\n",
    "    validation_split=None,\n",
    "    subset=None,\n",
    "    interpolation=\"bilinear\",\n",
    "    follow_links=False,\n",
    "    crop_to_aspect_ratio=False\n",
    ")"
   ]
  },
  {
   "cell_type": "code",
   "execution_count": 9,
   "metadata": {},
   "outputs": [
    {
     "name": "stdout",
     "output_type": "stream",
     "text": [
      "Found 21861 files belonging to 4 classes.\n"
     ]
    }
   ],
   "source": [
    "validation_set = image_dataset_from_directory(\n",
    "    'val',\n",
    "    labels=\"inferred\",\n",
    "    label_mode=\"categorical\",\n",
    "    class_names=None,\n",
    "    color_mode=\"rgb\",\n",
    "    batch_size=32,\n",
    "    image_size=(224, 224),\n",
    "    shuffle=True,\n",
    "    seed=None,\n",
    "    validation_split=None,\n",
    "    subset=None,\n",
    "    interpolation=\"bilinear\",\n",
    "    follow_links=False,\n",
    "    crop_to_aspect_ratio=False\n",
    ")"
   ]
  },
  {
   "cell_type": "code",
   "execution_count": 10,
   "metadata": {},
   "outputs": [
    {
     "data": {
      "text/plain": [
       "<_PrefetchDataset element_spec=(TensorSpec(shape=(None, 224, 224, 3), dtype=tf.float32, name=None), TensorSpec(shape=(None, 4), dtype=tf.float32, name=None))>"
      ]
     },
     "execution_count": 10,
     "metadata": {},
     "output_type": "execute_result"
    }
   ],
   "source": [
    "training_set\n"
   ]
  },
  {
   "cell_type": "code",
   "execution_count": 11,
   "metadata": {},
   "outputs": [],
   "source": [
    "INPUT_SHAPE = (224, 224, 3)\n"
   ]
  },
  {
   "cell_type": "code",
   "execution_count": 12,
   "metadata": {},
   "outputs": [],
   "source": [
    "mobnet = tf.keras.applications.MobileNetV3Large(\n",
    "    input_shape=INPUT_SHAPE,\n",
    "    alpha=1.0,\n",
    "    minimalistic=False,\n",
    "    include_top=True,\n",
    "    weights=\"imagenet\",\n",
    "    input_tensor=None,\n",
    "    classes=1000,\n",
    "    pooling=None,\n",
    "    dropout_rate=0.2,\n",
    "    classifier_activation=\"softmax\",\n",
    "    include_preprocessing=True,\n",
    "    # name=\"MobileNetV3Large\",\n",
    ")"
   ]
  },
  {
   "cell_type": "code",
   "execution_count": 13,
   "metadata": {},
   "outputs": [],
   "source": [
    "model = tf.keras.models.Sequential()\n"
   ]
  },
  {
   "cell_type": "code",
   "execution_count": 14,
   "metadata": {},
   "outputs": [],
   "source": [
    "model.add(tf.keras.Input(shape=INPUT_SHAPE))\n"
   ]
  },
  {
   "cell_type": "code",
   "execution_count": 15,
   "metadata": {},
   "outputs": [],
   "source": [
    "model.add(mobnet)"
   ]
  },
  {
   "cell_type": "code",
   "execution_count": 16,
   "metadata": {},
   "outputs": [],
   "source": [
    "model.add(tf.keras.layers.Dense(units = 4,activation='softmax'))\n"
   ]
  },
  {
   "cell_type": "code",
   "execution_count": 17,
   "metadata": {},
   "outputs": [],
   "source": [
    "metrics_list = ['accuracy',\n",
    "                tf.keras.metrics.F1Score()]"
   ]
  },
  {
   "cell_type": "code",
   "execution_count": 18,
   "metadata": {},
   "outputs": [],
   "source": [
    "model.compile(optimizer=tf.keras.optimizers.Adam(\n",
    "    learning_rate=0.0001),loss='categorical_crossentropy',metrics=metrics_list)"
   ]
  },
  {
   "cell_type": "code",
   "execution_count": 20,
   "metadata": {},
   "outputs": [
    {
     "data": {
      "text/html": [
       "<pre style=\"white-space:pre;overflow-x:auto;line-height:normal;font-family:Menlo,'DejaVu Sans Mono',consolas,'Courier New',monospace\"><span style=\"font-weight: bold\">Model: \"sequential\"</span>\n",
       "</pre>\n"
      ],
      "text/plain": [
       "\u001b[1mModel: \"sequential\"\u001b[0m\n"
      ]
     },
     "metadata": {},
     "output_type": "display_data"
    },
    {
     "data": {
      "text/html": [
       "<pre style=\"white-space:pre;overflow-x:auto;line-height:normal;font-family:Menlo,'DejaVu Sans Mono',consolas,'Courier New',monospace\">┏━━━━━━━━━━━━━━━━━━━━━━━━━━━━━━━━━┳━━━━━━━━━━━━━━━━━━━━━━━━┳━━━━━━━━━━━━━━━┓\n",
       "┃<span style=\"font-weight: bold\"> Layer (type)                    </span>┃<span style=\"font-weight: bold\"> Output Shape           </span>┃<span style=\"font-weight: bold\">       Param # </span>┃\n",
       "┡━━━━━━━━━━━━━━━━━━━━━━━━━━━━━━━━━╇━━━━━━━━━━━━━━━━━━━━━━━━╇━━━━━━━━━━━━━━━┩\n",
       "│ MobileNetV3Large (<span style=\"color: #0087ff; text-decoration-color: #0087ff\">Functional</span>)   │ (<span style=\"color: #00d7ff; text-decoration-color: #00d7ff\">None</span>, <span style=\"color: #00af00; text-decoration-color: #00af00\">1000</span>)           │     <span style=\"color: #00af00; text-decoration-color: #00af00\">5,507,432</span> │\n",
       "├─────────────────────────────────┼────────────────────────┼───────────────┤\n",
       "│ dense (<span style=\"color: #0087ff; text-decoration-color: #0087ff\">Dense</span>)                   │ (<span style=\"color: #00d7ff; text-decoration-color: #00d7ff\">None</span>, <span style=\"color: #00af00; text-decoration-color: #00af00\">4</span>)              │         <span style=\"color: #00af00; text-decoration-color: #00af00\">4,004</span> │\n",
       "└─────────────────────────────────┴────────────────────────┴───────────────┘\n",
       "</pre>\n"
      ],
      "text/plain": [
       "┏━━━━━━━━━━━━━━━━━━━━━━━━━━━━━━━━━┳━━━━━━━━━━━━━━━━━━━━━━━━┳━━━━━━━━━━━━━━━┓\n",
       "┃\u001b[1m \u001b[0m\u001b[1mLayer (type)                   \u001b[0m\u001b[1m \u001b[0m┃\u001b[1m \u001b[0m\u001b[1mOutput Shape          \u001b[0m\u001b[1m \u001b[0m┃\u001b[1m \u001b[0m\u001b[1m      Param #\u001b[0m\u001b[1m \u001b[0m┃\n",
       "┡━━━━━━━━━━━━━━━━━━━━━━━━━━━━━━━━━╇━━━━━━━━━━━━━━━━━━━━━━━━╇━━━━━━━━━━━━━━━┩\n",
       "│ MobileNetV3Large (\u001b[38;5;33mFunctional\u001b[0m)   │ (\u001b[38;5;45mNone\u001b[0m, \u001b[38;5;34m1000\u001b[0m)           │     \u001b[38;5;34m5,507,432\u001b[0m │\n",
       "├─────────────────────────────────┼────────────────────────┼───────────────┤\n",
       "│ dense (\u001b[38;5;33mDense\u001b[0m)                   │ (\u001b[38;5;45mNone\u001b[0m, \u001b[38;5;34m4\u001b[0m)              │         \u001b[38;5;34m4,004\u001b[0m │\n",
       "└─────────────────────────────────┴────────────────────────┴───────────────┘\n"
      ]
     },
     "metadata": {},
     "output_type": "display_data"
    },
    {
     "data": {
      "text/html": [
       "<pre style=\"white-space:pre;overflow-x:auto;line-height:normal;font-family:Menlo,'DejaVu Sans Mono',consolas,'Courier New',monospace\"><span style=\"font-weight: bold\"> Total params: </span><span style=\"color: #00af00; text-decoration-color: #00af00\">5,511,436</span> (21.02 MB)\n",
       "</pre>\n"
      ],
      "text/plain": [
       "\u001b[1m Total params: \u001b[0m\u001b[38;5;34m5,511,436\u001b[0m (21.02 MB)\n"
      ]
     },
     "metadata": {},
     "output_type": "display_data"
    },
    {
     "data": {
      "text/html": [
       "<pre style=\"white-space:pre;overflow-x:auto;line-height:normal;font-family:Menlo,'DejaVu Sans Mono',consolas,'Courier New',monospace\"><span style=\"font-weight: bold\"> Trainable params: </span><span style=\"color: #00af00; text-decoration-color: #00af00\">5,487,036</span> (20.93 MB)\n",
       "</pre>\n"
      ],
      "text/plain": [
       "\u001b[1m Trainable params: \u001b[0m\u001b[38;5;34m5,487,036\u001b[0m (20.93 MB)\n"
      ]
     },
     "metadata": {},
     "output_type": "display_data"
    },
    {
     "data": {
      "text/html": [
       "<pre style=\"white-space:pre;overflow-x:auto;line-height:normal;font-family:Menlo,'DejaVu Sans Mono',consolas,'Courier New',monospace\"><span style=\"font-weight: bold\"> Non-trainable params: </span><span style=\"color: #00af00; text-decoration-color: #00af00\">24,400</span> (95.31 KB)\n",
       "</pre>\n"
      ],
      "text/plain": [
       "\u001b[1m Non-trainable params: \u001b[0m\u001b[38;5;34m24,400\u001b[0m (95.31 KB)\n"
      ]
     },
     "metadata": {},
     "output_type": "display_data"
    }
   ],
   "source": [
    "model.summary()"
   ]
  },
  {
   "cell_type": "code",
   "execution_count": 22,
   "metadata": {},
   "outputs": [
    {
     "name": "stdout",
     "output_type": "stream",
     "text": [
      "Epoch 1/15\n",
      "\u001b[1m2392/2392\u001b[0m \u001b[32m━━━━━━━━━━━━━━━━━━━━\u001b[0m\u001b[37m\u001b[0m \u001b[1m9188s\u001b[0m 4s/step - accuracy: 0.8905 - f1_score: 0.6849 - loss: 1.1576 - val_accuracy: 0.8977 - val_f1_score: 0.6940 - val_loss: 0.9313\n",
      "Epoch 2/15\n",
      "\u001b[1m2392/2392\u001b[0m \u001b[32m━━━━━━━━━━━━━━━━━━━━\u001b[0m\u001b[37m\u001b[0m \u001b[1m8511s\u001b[0m 4s/step - accuracy: 0.8998 - f1_score: 0.6969 - loss: 0.8658 - val_accuracy: 0.9019 - val_f1_score: 0.6998 - val_loss: 0.6970\n",
      "Epoch 3/15\n",
      "\u001b[1m2392/2392\u001b[0m \u001b[32m━━━━━━━━━━━━━━━━━━━━\u001b[0m\u001b[37m\u001b[0m \u001b[1m8919s\u001b[0m 4s/step - accuracy: 0.9000 - f1_score: 0.7026 - loss: 0.6515 - val_accuracy: 0.9502 - val_f1_score: 0.9055 - val_loss: 0.5471\n",
      "Epoch 4/15\n",
      "\u001b[1m2392/2392\u001b[0m \u001b[32m━━━━━━━━━━━━━━━━━━━━\u001b[0m\u001b[37m\u001b[0m \u001b[1m9012s\u001b[0m 4s/step - accuracy: 0.9556 - f1_score: 0.9214 - loss: 0.5053 - val_accuracy: 0.9489 - val_f1_score: 0.9132 - val_loss: 0.4354\n",
      "Epoch 5/15\n",
      "\u001b[1m2392/2392\u001b[0m \u001b[32m━━━━━━━━━━━━━━━━━━━━\u001b[0m\u001b[37m\u001b[0m \u001b[1m8718s\u001b[0m 4s/step - accuracy: 0.9611 - f1_score: 0.9318 - loss: 0.3945 - val_accuracy: 0.9661 - val_f1_score: 0.9411 - val_loss: 0.3280\n",
      "Epoch 6/15\n",
      "\u001b[1m2392/2392\u001b[0m \u001b[32m━━━━━━━━━━━━━━━━━━━━\u001b[0m\u001b[37m\u001b[0m \u001b[1m8533s\u001b[0m 4s/step - accuracy: 0.9662 - f1_score: 0.9413 - loss: 0.3088 - val_accuracy: 0.9675 - val_f1_score: 0.9437 - val_loss: 0.2645\n",
      "Epoch 7/15\n",
      "\u001b[1m2392/2392\u001b[0m \u001b[32m━━━━━━━━━━━━━━━━━━━━\u001b[0m\u001b[37m\u001b[0m \u001b[1m9129s\u001b[0m 4s/step - accuracy: 0.9713 - f1_score: 0.9498 - loss: 0.2428 - val_accuracy: 0.9681 - val_f1_score: 0.9449 - val_loss: 0.2211\n",
      "Epoch 8/15\n",
      "\u001b[1m2392/2392\u001b[0m \u001b[32m━━━━━━━━━━━━━━━━━━━━\u001b[0m\u001b[37m\u001b[0m \u001b[1m8371s\u001b[0m 3s/step - accuracy: 0.9765 - f1_score: 0.9589 - loss: 0.1905 - val_accuracy: 0.9679 - val_f1_score: 0.9439 - val_loss: 0.1980\n",
      "Epoch 9/15\n",
      "\u001b[1m2392/2392\u001b[0m \u001b[32m━━━━━━━━━━━━━━━━━━━━\u001b[0m\u001b[37m\u001b[0m \u001b[1m8422s\u001b[0m 4s/step - accuracy: 0.9774 - f1_score: 0.9601 - loss: 0.1588 - val_accuracy: 0.9710 - val_f1_score: 0.9499 - val_loss: 0.1627\n",
      "Epoch 10/15\n",
      "\u001b[1m2392/2392\u001b[0m \u001b[32m━━━━━━━━━━━━━━━━━━━━\u001b[0m\u001b[37m\u001b[0m \u001b[1m9509s\u001b[0m 4s/step - accuracy: 0.9820 - f1_score: 0.9686 - loss: 0.1248 - val_accuracy: 0.9609 - val_f1_score: 0.9366 - val_loss: 0.1655\n",
      "Epoch 11/15\n",
      "\u001b[1m2392/2392\u001b[0m \u001b[32m━━━━━━━━━━━━━━━━━━━━\u001b[0m\u001b[37m\u001b[0m \u001b[1m9333s\u001b[0m 4s/step - accuracy: 0.9847 - f1_score: 0.9732 - loss: 0.1019 - val_accuracy: 0.9690 - val_f1_score: 0.9449 - val_loss: 0.1522\n",
      "Epoch 12/15\n",
      "\u001b[1m2392/2392\u001b[0m \u001b[32m━━━━━━━━━━━━━━━━━━━━\u001b[0m\u001b[37m\u001b[0m \u001b[1m8158s\u001b[0m 3s/step - accuracy: 0.9862 - f1_score: 0.9758 - loss: 0.0874 - val_accuracy: 0.8931 - val_f1_score: 0.8542 - val_loss: 0.3830\n",
      "Epoch 13/15\n",
      "\u001b[1m2392/2392\u001b[0m \u001b[32m━━━━━━━━━━━━━━━━━━━━\u001b[0m\u001b[37m\u001b[0m \u001b[1m8363s\u001b[0m 3s/step - accuracy: 0.9878 - f1_score: 0.9787 - loss: 0.0748 - val_accuracy: 0.9670 - val_f1_score: 0.9437 - val_loss: 0.1381\n",
      "Epoch 14/15\n",
      "\u001b[1m2392/2392\u001b[0m \u001b[32m━━━━━━━━━━━━━━━━━━━━\u001b[0m\u001b[37m\u001b[0m \u001b[1m9327s\u001b[0m 4s/step - accuracy: 0.9894 - f1_score: 0.9815 - loss: 0.0646 - val_accuracy: 0.9740 - val_f1_score: 0.9545 - val_loss: 0.1113\n",
      "Epoch 15/15\n",
      "\u001b[1m2392/2392\u001b[0m \u001b[32m━━━━━━━━━━━━━━━━━━━━\u001b[0m\u001b[37m\u001b[0m \u001b[1m8333s\u001b[0m 3s/step - accuracy: 0.9900 - f1_score: 0.9825 - loss: 0.0590 - val_accuracy: 0.9704 - val_f1_score: 0.9488 - val_loss: 0.1294\n"
     ]
    }
   ],
   "source": [
    "training_history = model.fit(x=training_set,validation_data=validation_set,epochs=15)\n"
   ]
  },
  {
   "cell_type": "code",
   "execution_count": 42,
   "metadata": {},
   "outputs": [
    {
     "name": "stderr",
     "output_type": "stream",
     "text": [
      "WARNING:absl:You are saving your model as an HDF5 file via `model.save()` or `keras.saving.save_model(model)`. This file format is considered legacy. We recommend using instead the native Keras format, e.g. `model.save('my_model.keras')` or `keras.saving.save_model(model, 'my_model.keras')`. \n"
     ]
    }
   ],
   "source": [
    "model.save(\"Trained_Eye_disease_model.h5\")"
   ]
  },
  {
   "cell_type": "code",
   "execution_count": 43,
   "metadata": {},
   "outputs": [],
   "source": [
    "model.save(\"Trained_Eye_disease_model.keras\")"
   ]
  },
  {
   "cell_type": "code",
   "execution_count": 25,
   "metadata": {},
   "outputs": [
    {
     "data": {
      "text/plain": [
       "<keras.src.callbacks.history.History at 0x24f792a5bb0>"
      ]
     },
     "execution_count": 25,
     "metadata": {},
     "output_type": "execute_result"
    }
   ],
   "source": [
    "training_history"
   ]
  },
  {
   "cell_type": "code",
   "execution_count": 26,
   "metadata": {},
   "outputs": [
    {
     "data": {
      "text/plain": [
       "{'accuracy': [0.8927268981933594,\n",
       "  0.8979938626289368,\n",
       "  0.9080572724342346,\n",
       "  0.9572371244430542,\n",
       "  0.9625694155693054,\n",
       "  0.9673135876655579,\n",
       "  0.9720577597618103,\n",
       "  0.9768149852752686,\n",
       "  0.979089081287384,\n",
       "  0.9823694825172424,\n",
       "  0.984957218170166,\n",
       "  0.9869437217712402,\n",
       "  0.9885904788970947,\n",
       "  0.98946613073349,\n",
       "  0.9899758100509644],\n",
       " 'f1_score': [<tf.Tensor: shape=(4,), dtype=float32, numpy=array([0.8980557 , 0.88868034, 0.        , 0.96460724], dtype=float32)>,\n",
       "  <tf.Tensor: shape=(4,), dtype=float32, numpy=array([0.8925277, 0.912557 , 0.       , 0.9755522], dtype=float32)>,\n",
       "  <tf.Tensor: shape=(4,), dtype=float32, numpy=array([0.899517  , 0.92472714, 0.21820217, 0.97903824], dtype=float32)>,\n",
       "  <tf.Tensor: shape=(4,), dtype=float32, numpy=array([0.96118647, 0.9350327 , 0.81994945, 0.98267585], dtype=float32)>,\n",
       "  <tf.Tensor: shape=(4,), dtype=float32, numpy=array([0.966411  , 0.9475632 , 0.84023374, 0.9843293 ], dtype=float32)>,\n",
       "  <tf.Tensor: shape=(4,), dtype=float32, numpy=array([0.9715424 , 0.95441025, 0.86098087, 0.985684  ], dtype=float32)>,\n",
       "  <tf.Tensor: shape=(4,), dtype=float32, numpy=array([0.9760697, 0.9627609, 0.8796812, 0.9873168], dtype=float32)>,\n",
       "  <tf.Tensor: shape=(4,), dtype=float32, numpy=array([0.9799828, 0.9694457, 0.8996877, 0.9895373], dtype=float32)>,\n",
       "  <tf.Tensor: shape=(4,), dtype=float32, numpy=array([0.982179  , 0.97247815, 0.9089018 , 0.9905079 ], dtype=float32)>,\n",
       "  <tf.Tensor: shape=(4,), dtype=float32, numpy=array([0.98522514, 0.97579944, 0.92416   , 0.9918765 ], dtype=float32)>,\n",
       "  <tf.Tensor: shape=(4,), dtype=float32, numpy=array([0.98759675, 0.9801013 , 0.93473214, 0.99283683], dtype=float32)>,\n",
       "  <tf.Tensor: shape=(4,), dtype=float32, numpy=array([0.9888434, 0.9831995, 0.9426413, 0.9940593], dtype=float32)>,\n",
       "  <tf.Tensor: shape=(4,), dtype=float32, numpy=array([0.99079585, 0.9848774 , 0.94989556, 0.99451435], dtype=float32)>,\n",
       "  <tf.Tensor: shape=(4,), dtype=float32, numpy=array([0.99138963, 0.98622173, 0.95372003, 0.99497354], dtype=float32)>,\n",
       "  <tf.Tensor: shape=(4,), dtype=float32, numpy=array([0.99163926, 0.9866074 , 0.95664066, 0.99527824], dtype=float32)>],\n",
       " 'loss': [1.0781199932098389,\n",
       "  0.8074030876159668,\n",
       "  0.6118029356002808,\n",
       "  0.47560980916023254,\n",
       "  0.37167465686798096,\n",
       "  0.29188472032546997,\n",
       "  0.22983963787555695,\n",
       "  0.18090663850307465,\n",
       "  0.14783981442451477,\n",
       "  0.11926903575658798,\n",
       "  0.0985695868730545,\n",
       "  0.08277291804552078,\n",
       "  0.07136625051498413,\n",
       "  0.06360100954771042,\n",
       "  0.05808185786008835],\n",
       " 'val_accuracy': [0.897671639919281,\n",
       "  0.901925802230835,\n",
       "  0.950185239315033,\n",
       "  0.9489044547080994,\n",
       "  0.9660582542419434,\n",
       "  0.9675220847129822,\n",
       "  0.9680709838867188,\n",
       "  0.9679337739944458,\n",
       "  0.9709985852241516,\n",
       "  0.9608892798423767,\n",
       "  0.9689858555793762,\n",
       "  0.8930515646934509,\n",
       "  0.9669731259346008,\n",
       "  0.9740176796913147,\n",
       "  0.9704039096832275],\n",
       " 'val_f1_score': [<tf.Tensor: shape=(4,), dtype=float32, numpy=array([0.8959862 , 0.90709674, 0.        , 0.97284657], dtype=float32)>,\n",
       "  <tf.Tensor: shape=(4,), dtype=float32, numpy=array([0.8967894 , 0.9248658 , 0.        , 0.97745717], dtype=float32)>,\n",
       "  <tf.Tensor: shape=(4,), dtype=float32, numpy=array([0.95382816, 0.91909087, 0.7686762 , 0.980595  ], dtype=float32)>,\n",
       "  <tf.Tensor: shape=(4,), dtype=float32, numpy=array([0.96600336, 0.9439788 , 0.7728722 , 0.9698765 ], dtype=float32)>,\n",
       "  <tf.Tensor: shape=(4,), dtype=float32, numpy=array([0.9697539 , 0.94251853, 0.8664804 , 0.98580116], dtype=float32)>,\n",
       "  <tf.Tensor: shape=(4,), dtype=float32, numpy=array([0.971222  , 0.9482529 , 0.86924994, 0.9861158 ], dtype=float32)>,\n",
       "  <tf.Tensor: shape=(4,), dtype=float32, numpy=array([0.9720752 , 0.9458855 , 0.87513745, 0.9863159 ], dtype=float32)>,\n",
       "  <tf.Tensor: shape=(4,), dtype=float32, numpy=array([0.9755804 , 0.9382771 , 0.87817544, 0.9836585 ], dtype=float32)>,\n",
       "  <tf.Tensor: shape=(4,), dtype=float32, numpy=array([0.9760945 , 0.9518125 , 0.88523674, 0.9863873 ], dtype=float32)>,\n",
       "  <tf.Tensor: shape=(4,), dtype=float32, numpy=array([0.9758259, 0.9070377, 0.8877693, 0.9759581], dtype=float32)>,\n",
       "  <tf.Tensor: shape=(4,), dtype=float32, numpy=array([0.9755968 , 0.94122946, 0.8779328 , 0.9848506 ], dtype=float32)>,\n",
       "  <tf.Tensor: shape=(4,), dtype=float32, numpy=array([0.95002395, 0.6926242 , 0.8518064 , 0.92220336], dtype=float32)>,\n",
       "  <tf.Tensor: shape=(4,), dtype=float32, numpy=array([0.9767318 , 0.93272233, 0.8837209 , 0.98164237], dtype=float32)>,\n",
       "  <tf.Tensor: shape=(4,), dtype=float32, numpy=array([0.9782579, 0.9619588, 0.8893879, 0.9882478], dtype=float32)>,\n",
       "  <tf.Tensor: shape=(4,), dtype=float32, numpy=array([0.97651947, 0.9469697 , 0.886111  , 0.98571974], dtype=float32)>],\n",
       " 'val_loss': [0.9312930107116699,\n",
       "  0.6969528198242188,\n",
       "  0.547054648399353,\n",
       "  0.435355544090271,\n",
       "  0.32795003056526184,\n",
       "  0.2644991874694824,\n",
       "  0.22110971808433533,\n",
       "  0.1979740858078003,\n",
       "  0.16267462074756622,\n",
       "  0.16549471020698547,\n",
       "  0.15219193696975708,\n",
       "  0.38302648067474365,\n",
       "  0.13807271420955658,\n",
       "  0.1112731471657753,\n",
       "  0.1293863207101822]}"
      ]
     },
     "execution_count": 26,
     "metadata": {},
     "output_type": "execute_result"
    }
   ],
   "source": [
    "training_history.history"
   ]
  },
  {
   "cell_type": "code",
   "execution_count": 27,
   "metadata": {},
   "outputs": [],
   "source": [
    "# Saving history\n",
    "with open('Training_history.pkl', 'wb') as f:\n",
    "    pickle.dump(training_history.history, f)"
   ]
  },
  {
   "cell_type": "code",
   "execution_count": 28,
   "metadata": {},
   "outputs": [
    {
     "name": "stdout",
     "output_type": "stream",
     "text": [
      "{'accuracy': [0.8927268981933594, 0.8979938626289368, 0.9080572724342346, 0.9572371244430542, 0.9625694155693054, 0.9673135876655579, 0.9720577597618103, 0.9768149852752686, 0.979089081287384, 0.9823694825172424, 0.984957218170166, 0.9869437217712402, 0.9885904788970947, 0.98946613073349, 0.9899758100509644], 'f1_score': [<tf.Tensor: shape=(4,), dtype=float32, numpy=array([0.8980557 , 0.88868034, 0.        , 0.96460724], dtype=float32)>, <tf.Tensor: shape=(4,), dtype=float32, numpy=array([0.8925277, 0.912557 , 0.       , 0.9755522], dtype=float32)>, <tf.Tensor: shape=(4,), dtype=float32, numpy=array([0.899517  , 0.92472714, 0.21820217, 0.97903824], dtype=float32)>, <tf.Tensor: shape=(4,), dtype=float32, numpy=array([0.96118647, 0.9350327 , 0.81994945, 0.98267585], dtype=float32)>, <tf.Tensor: shape=(4,), dtype=float32, numpy=array([0.966411  , 0.9475632 , 0.84023374, 0.9843293 ], dtype=float32)>, <tf.Tensor: shape=(4,), dtype=float32, numpy=array([0.9715424 , 0.95441025, 0.86098087, 0.985684  ], dtype=float32)>, <tf.Tensor: shape=(4,), dtype=float32, numpy=array([0.9760697, 0.9627609, 0.8796812, 0.9873168], dtype=float32)>, <tf.Tensor: shape=(4,), dtype=float32, numpy=array([0.9799828, 0.9694457, 0.8996877, 0.9895373], dtype=float32)>, <tf.Tensor: shape=(4,), dtype=float32, numpy=array([0.982179  , 0.97247815, 0.9089018 , 0.9905079 ], dtype=float32)>, <tf.Tensor: shape=(4,), dtype=float32, numpy=array([0.98522514, 0.97579944, 0.92416   , 0.9918765 ], dtype=float32)>, <tf.Tensor: shape=(4,), dtype=float32, numpy=array([0.98759675, 0.9801013 , 0.93473214, 0.99283683], dtype=float32)>, <tf.Tensor: shape=(4,), dtype=float32, numpy=array([0.9888434, 0.9831995, 0.9426413, 0.9940593], dtype=float32)>, <tf.Tensor: shape=(4,), dtype=float32, numpy=array([0.99079585, 0.9848774 , 0.94989556, 0.99451435], dtype=float32)>, <tf.Tensor: shape=(4,), dtype=float32, numpy=array([0.99138963, 0.98622173, 0.95372003, 0.99497354], dtype=float32)>, <tf.Tensor: shape=(4,), dtype=float32, numpy=array([0.99163926, 0.9866074 , 0.95664066, 0.99527824], dtype=float32)>], 'loss': [1.0781199932098389, 0.8074030876159668, 0.6118029356002808, 0.47560980916023254, 0.37167465686798096, 0.29188472032546997, 0.22983963787555695, 0.18090663850307465, 0.14783981442451477, 0.11926903575658798, 0.0985695868730545, 0.08277291804552078, 0.07136625051498413, 0.06360100954771042, 0.05808185786008835], 'val_accuracy': [0.897671639919281, 0.901925802230835, 0.950185239315033, 0.9489044547080994, 0.9660582542419434, 0.9675220847129822, 0.9680709838867188, 0.9679337739944458, 0.9709985852241516, 0.9608892798423767, 0.9689858555793762, 0.8930515646934509, 0.9669731259346008, 0.9740176796913147, 0.9704039096832275], 'val_f1_score': [<tf.Tensor: shape=(4,), dtype=float32, numpy=array([0.8959862 , 0.90709674, 0.        , 0.97284657], dtype=float32)>, <tf.Tensor: shape=(4,), dtype=float32, numpy=array([0.8967894 , 0.9248658 , 0.        , 0.97745717], dtype=float32)>, <tf.Tensor: shape=(4,), dtype=float32, numpy=array([0.95382816, 0.91909087, 0.7686762 , 0.980595  ], dtype=float32)>, <tf.Tensor: shape=(4,), dtype=float32, numpy=array([0.96600336, 0.9439788 , 0.7728722 , 0.9698765 ], dtype=float32)>, <tf.Tensor: shape=(4,), dtype=float32, numpy=array([0.9697539 , 0.94251853, 0.8664804 , 0.98580116], dtype=float32)>, <tf.Tensor: shape=(4,), dtype=float32, numpy=array([0.971222  , 0.9482529 , 0.86924994, 0.9861158 ], dtype=float32)>, <tf.Tensor: shape=(4,), dtype=float32, numpy=array([0.9720752 , 0.9458855 , 0.87513745, 0.9863159 ], dtype=float32)>, <tf.Tensor: shape=(4,), dtype=float32, numpy=array([0.9755804 , 0.9382771 , 0.87817544, 0.9836585 ], dtype=float32)>, <tf.Tensor: shape=(4,), dtype=float32, numpy=array([0.9760945 , 0.9518125 , 0.88523674, 0.9863873 ], dtype=float32)>, <tf.Tensor: shape=(4,), dtype=float32, numpy=array([0.9758259, 0.9070377, 0.8877693, 0.9759581], dtype=float32)>, <tf.Tensor: shape=(4,), dtype=float32, numpy=array([0.9755968 , 0.94122946, 0.8779328 , 0.9848506 ], dtype=float32)>, <tf.Tensor: shape=(4,), dtype=float32, numpy=array([0.95002395, 0.6926242 , 0.8518064 , 0.92220336], dtype=float32)>, <tf.Tensor: shape=(4,), dtype=float32, numpy=array([0.9767318 , 0.93272233, 0.8837209 , 0.98164237], dtype=float32)>, <tf.Tensor: shape=(4,), dtype=float32, numpy=array([0.9782579, 0.9619588, 0.8893879, 0.9882478], dtype=float32)>, <tf.Tensor: shape=(4,), dtype=float32, numpy=array([0.97651947, 0.9469697 , 0.886111  , 0.98571974], dtype=float32)>], 'val_loss': [0.9312930107116699, 0.6969528198242188, 0.547054648399353, 0.435355544090271, 0.32795003056526184, 0.2644991874694824, 0.22110971808433533, 0.1979740858078003, 0.16267462074756622, 0.16549471020698547, 0.15219193696975708, 0.38302648067474365, 0.13807271420955658, 0.1112731471657753, 0.1293863207101822]}\n"
     ]
    }
   ],
   "source": [
    "#Reloading History from pickle\n",
    "with open('Training_history.pkl', 'rb') as f:\n",
    "    load_history = pickle.load(f)\n",
    "print(load_history)"
   ]
  },
  {
   "cell_type": "code",
   "execution_count": 29,
   "metadata": {},
   "outputs": [
    {
     "data": {
      "text/plain": [
       "dict_keys(['accuracy', 'f1_score', 'loss', 'val_accuracy', 'val_f1_score', 'val_loss'])"
      ]
     },
     "execution_count": 29,
     "metadata": {},
     "output_type": "execute_result"
    }
   ],
   "source": [
    "load_history.keys()"
   ]
  },
  {
   "cell_type": "code",
   "execution_count": 30,
   "metadata": {},
   "outputs": [
    {
     "data": {
      "image/png": "[encoded data removed]",
      "text/plain": [
       "<Figure size 640x480 with 1 Axes>"
      ]
     },
     "metadata": {},
     "output_type": "display_data"
    }
   ],
   "source": [
    "#Loss Visualization\n",
    "epochs = [i for i in range(1,16)]\n",
    "plt.plot(epochs,load_history['loss'],color='red',label='Training Loss')\n",
    "plt.plot(epochs,load_history['val_loss'],color='blue',label='Validation Loss')\n",
    "plt.xlabel('No. of Epochs')\n",
    "plt.title('Visualization of Loss Result')\n",
    "plt.legend()\n",
    "plt.show()"
   ]
  },
  {
   "cell_type": "markdown",
   "metadata": {},
   "source": [
    "Model Evaluation"
   ]
  },
  {
   "cell_type": "code",
   "execution_count": 72,
   "metadata": {},
   "outputs": [],
   "source": [
    "model = tf.keras.models.load_model(\"Trained_Eye_disease_model.keras\")\n"
   ]
  },
  {
   "cell_type": "code",
   "execution_count": 74,
   "metadata": {},
   "outputs": [
    {
     "data": {
      "text/html": [
       "<pre style=\"white-space:pre;overflow-x:auto;line-height:normal;font-family:Menlo,'DejaVu Sans Mono',consolas,'Courier New',monospace\"><span style=\"font-weight: bold\">Model: \"sequential\"</span>\n",
       "</pre>\n"
      ],
      "text/plain": [
       "\u001b[1mModel: \"sequential\"\u001b[0m\n"
      ]
     },
     "metadata": {},
     "output_type": "display_data"
    },
    {
     "data": {
      "text/html": [
       "<pre style=\"white-space:pre;overflow-x:auto;line-height:normal;font-family:Menlo,'DejaVu Sans Mono',consolas,'Courier New',monospace\">┏━━━━━━━━━━━━━━━━━━━━━━━━━━━━━━━━━┳━━━━━━━━━━━━━━━━━━━━━━━━┳━━━━━━━━━━━━━━━┓\n",
       "┃<span style=\"font-weight: bold\"> Layer (type)                    </span>┃<span style=\"font-weight: bold\"> Output Shape           </span>┃<span style=\"font-weight: bold\">       Param # </span>┃\n",
       "┡━━━━━━━━━━━━━━━━━━━━━━━━━━━━━━━━━╇━━━━━━━━━━━━━━━━━━━━━━━━╇━━━━━━━━━━━━━━━┩\n",
       "│ MobileNetV3Large (<span style=\"color: #0087ff; text-decoration-color: #0087ff\">Functional</span>)   │ (<span style=\"color: #00d7ff; text-decoration-color: #00d7ff\">None</span>, <span style=\"color: #00af00; text-decoration-color: #00af00\">1000</span>)           │     <span style=\"color: #00af00; text-decoration-color: #00af00\">5,507,432</span> │\n",
       "├─────────────────────────────────┼────────────────────────┼───────────────┤\n",
       "│ dense (<span style=\"color: #0087ff; text-decoration-color: #0087ff\">Dense</span>)                   │ (<span style=\"color: #00d7ff; text-decoration-color: #00d7ff\">None</span>, <span style=\"color: #00af00; text-decoration-color: #00af00\">4</span>)              │         <span style=\"color: #00af00; text-decoration-color: #00af00\">4,004</span> │\n",
       "└─────────────────────────────────┴────────────────────────┴───────────────┘\n",
       "</pre>\n"
      ],
      "text/plain": [
       "┏━━━━━━━━━━━━━━━━━━━━━━━━━━━━━━━━━┳━━━━━━━━━━━━━━━━━━━━━━━━┳━━━━━━━━━━━━━━━┓\n",
       "┃\u001b[1m \u001b[0m\u001b[1mLayer (type)                   \u001b[0m\u001b[1m \u001b[0m┃\u001b[1m \u001b[0m\u001b[1mOutput Shape          \u001b[0m\u001b[1m \u001b[0m┃\u001b[1m \u001b[0m\u001b[1m      Param #\u001b[0m\u001b[1m \u001b[0m┃\n",
       "┡━━━━━━━━━━━━━━━━━━━━━━━━━━━━━━━━━╇━━━━━━━━━━━━━━━━━━━━━━━━╇━━━━━━━━━━━━━━━┩\n",
       "│ MobileNetV3Large (\u001b[38;5;33mFunctional\u001b[0m)   │ (\u001b[38;5;45mNone\u001b[0m, \u001b[38;5;34m1000\u001b[0m)           │     \u001b[38;5;34m5,507,432\u001b[0m │\n",
       "├─────────────────────────────────┼────────────────────────┼───────────────┤\n",
       "│ dense (\u001b[38;5;33mDense\u001b[0m)                   │ (\u001b[38;5;45mNone\u001b[0m, \u001b[38;5;34m4\u001b[0m)              │         \u001b[38;5;34m4,004\u001b[0m │\n",
       "└─────────────────────────────────┴────────────────────────┴───────────────┘\n"
      ]
     },
     "metadata": {},
     "output_type": "display_data"
    },
    {
     "data": {
      "text/html": [
       "<pre style=\"white-space:pre;overflow-x:auto;line-height:normal;font-family:Menlo,'DejaVu Sans Mono',consolas,'Courier New',monospace\"><span style=\"font-weight: bold\"> Total params: </span><span style=\"color: #00af00; text-decoration-color: #00af00\">10,998,474</span> (41.96 MB)\n",
       "</pre>\n"
      ],
      "text/plain": [
       "\u001b[1m Total params: \u001b[0m\u001b[38;5;34m10,998,474\u001b[0m (41.96 MB)\n"
      ]
     },
     "metadata": {},
     "output_type": "display_data"
    },
    {
     "data": {
      "text/html": [
       "<pre style=\"white-space:pre;overflow-x:auto;line-height:normal;font-family:Menlo,'DejaVu Sans Mono',consolas,'Courier New',monospace\"><span style=\"font-weight: bold\"> Trainable params: </span><span style=\"color: #00af00; text-decoration-color: #00af00\">5,487,036</span> (20.93 MB)\n",
       "</pre>\n"
      ],
      "text/plain": [
       "\u001b[1m Trainable params: \u001b[0m\u001b[38;5;34m5,487,036\u001b[0m (20.93 MB)\n"
      ]
     },
     "metadata": {},
     "output_type": "display_data"
    },
    {
     "data": {
      "text/html": [
       "<pre style=\"white-space:pre;overflow-x:auto;line-height:normal;font-family:Menlo,'DejaVu Sans Mono',consolas,'Courier New',monospace\"><span style=\"font-weight: bold\"> Non-trainable params: </span><span style=\"color: #00af00; text-decoration-color: #00af00\">24,400</span> (95.31 KB)\n",
       "</pre>\n"
      ],
      "text/plain": [
       "\u001b[1m Non-trainable params: \u001b[0m\u001b[38;5;34m24,400\u001b[0m (95.31 KB)\n"
      ]
     },
     "metadata": {},
     "output_type": "display_data"
    },
    {
     "data": {
      "text/html": [
       "<pre style=\"white-space:pre;overflow-x:auto;line-height:normal;font-family:Menlo,'DejaVu Sans Mono',consolas,'Courier New',monospace\"><span style=\"font-weight: bold\"> Optimizer params: </span><span style=\"color: #00af00; text-decoration-color: #00af00\">5,487,038</span> (20.93 MB)\n",
       "</pre>\n"
      ],
      "text/plain": [
       "\u001b[1m Optimizer params: \u001b[0m\u001b[38;5;34m5,487,038\u001b[0m (20.93 MB)\n"
      ]
     },
     "metadata": {},
     "output_type": "display_data"
    }
   ],
   "source": [
    "model.summary()"
   ]
  },
  {
   "cell_type": "code",
   "execution_count": 75,
   "metadata": {},
   "outputs": [
    {
     "name": "stdout",
     "output_type": "stream",
     "text": [
      "Found 10933 files belonging to 4 classes.\n"
     ]
    }
   ],
   "source": [
    "test_set = validation_set = image_dataset_from_directory(\n",
    "    './test',\n",
    "    labels=\"inferred\",\n",
    "    label_mode=\"categorical\",\n",
    "    class_names=None,\n",
    "    color_mode=\"rgb\",\n",
    "    batch_size=32,\n",
    "    image_size=(224, 224),\n",
    "    shuffle=False,\n",
    "    seed=None,\n",
    "    validation_split=None,\n",
    "    subset=None,\n",
    "    interpolation=\"bilinear\",\n",
    "    follow_links=False,\n",
    "    crop_to_aspect_ratio=False\n",
    ")"
   ]
  },
  {
   "cell_type": "code",
   "execution_count": 76,
   "metadata": {},
   "outputs": [
    {
     "name": "stdout",
     "output_type": "stream",
     "text": [
      "\u001b[1m342/342\u001b[0m \u001b[32m━━━━━━━━━━━━━━━━━━━━\u001b[0m\u001b[37m\u001b[0m \u001b[1m368s\u001b[0m 1s/step - accuracy: 0.9664 - f1_score: 0.6347 - loss: 0.1387\n"
     ]
    }
   ],
   "source": [
    "test_loss,test_acc,f1_score = model.evaluate(test_set)\n"
   ]
  },
  {
   "cell_type": "code",
   "execution_count": 77,
   "metadata": {},
   "outputs": [
    {
     "data": {
      "text/plain": [
       "(0.132725790143013,\n",
       " 0.9703649282455444,\n",
       " <tf.Tensor: shape=(4,), dtype=float32, numpy=array([0.9763885 , 0.94783765, 0.8897593 , 0.9847813 ], dtype=float32)>)"
      ]
     },
     "execution_count": 77,
     "metadata": {},
     "output_type": "execute_result"
    }
   ],
   "source": [
    "test_loss,test_acc,f1_score"
   ]
  },
  {
   "cell_type": "code",
   "execution_count": 50,
   "metadata": {},
   "outputs": [],
   "source": [
    "##Computing True labels from test set\n",
    "true_categories = tf.concat([y for x, y in test_set], axis=0)\n",
    "Y_true = tf.argmax(true_categories, axis=1)"
   ]
  },
  {
   "cell_type": "code",
   "execution_count": 78,
   "metadata": {},
   "outputs": [
    {
     "data": {
      "text/plain": [
       "<tf.Tensor: shape=(10933, 4), dtype=float32, numpy=\n",
       "array([[1., 0., 0., 0.],\n",
       "       [1., 0., 0., 0.],\n",
       "       [1., 0., 0., 0.],\n",
       "       ...,\n",
       "       [0., 0., 0., 1.],\n",
       "       [0., 0., 0., 1.],\n",
       "       [0., 0., 0., 1.]], dtype=float32)>"
      ]
     },
     "execution_count": 78,
     "metadata": {},
     "output_type": "execute_result"
    }
   ],
   "source": [
    "true_categories"
   ]
  },
  {
   "cell_type": "code",
   "execution_count": 79,
   "metadata": {},
   "outputs": [
    {
     "data": {
      "text/plain": [
       "<tf.Tensor: shape=(10933,), dtype=int64, numpy=array([0, 0, 0, ..., 3, 3, 3], dtype=int64)>"
      ]
     },
     "execution_count": 79,
     "metadata": {},
     "output_type": "execute_result"
    }
   ],
   "source": [
    "Y_true"
   ]
  },
  {
   "cell_type": "code",
   "execution_count": 80,
   "metadata": {},
   "outputs": [
    {
     "name": "stdout",
     "output_type": "stream",
     "text": [
      "\u001b[1m342/342\u001b[0m \u001b[32m━━━━━━━━━━━━━━━━━━━━\u001b[0m\u001b[37m\u001b[0m \u001b[1m402s\u001b[0m 1s/step\n"
     ]
    },
    {
     "data": {
      "text/plain": [
       "array([[0.9849895 , 0.00411389, 0.00687141, 0.00402515],\n",
       "       [0.9849895 , 0.00411389, 0.00687141, 0.00402515],\n",
       "       [0.9849895 , 0.00411389, 0.00687141, 0.00402515],\n",
       "       ...,\n",
       "       [0.00271814, 0.00354443, 0.00499113, 0.98874635],\n",
       "       [0.00271814, 0.00354443, 0.00499113, 0.98874635],\n",
       "       [0.00271814, 0.00354443, 0.00499113, 0.98874635]], dtype=float32)"
      ]
     },
     "execution_count": 80,
     "metadata": {},
     "output_type": "execute_result"
    }
   ],
   "source": [
    "##Computing Predicted labels using test set\n",
    "predicted_categories = model.predict(test_set)\n",
    "predicted_categories"
   ]
  },
  {
   "cell_type": "code",
   "execution_count": 81,
   "metadata": {},
   "outputs": [
    {
     "data": {
      "text/plain": [
       "<tf.Tensor: shape=(10933,), dtype=int64, numpy=array([0, 0, 0, ..., 3, 3, 3], dtype=int64)>"
      ]
     },
     "execution_count": 81,
     "metadata": {},
     "output_type": "execute_result"
    }
   ],
   "source": [
    "Y_pred = tf.argmax(predicted_categories, axis=1)\n",
    "Y_pred"
   ]
  },
  {
   "cell_type": "markdown",
   "metadata": {},
   "source": [
    "1. Classification Report"
   ]
  },
  {
   "cell_type": "code",
   "execution_count": 82,
   "metadata": {},
   "outputs": [
    {
     "name": "stdout",
     "output_type": "stream",
     "text": [
      "              precision    recall  f1-score   support\n",
      "\n",
      "           0       0.98      0.97      0.98      3746\n",
      "           1       0.98      0.92      0.95      1161\n",
      "           2       0.88      0.90      0.89       887\n",
      "           3       0.98      0.99      0.98      5139\n",
      "\n",
      "    accuracy                           0.97     10933\n",
      "   macro avg       0.96      0.94      0.95     10933\n",
      "weighted avg       0.97      0.97      0.97     10933\n",
      "\n"
     ]
    }
   ],
   "source": [
    "from sklearn.metrics import classification_report\n",
    "print(classification_report(Y_true,Y_pred))"
   ]
  },
  {
   "cell_type": "markdown",
   "metadata": {},
   "source": [
    "2. Confusion Matrix"
   ]
  },
  {
   "cell_type": "code",
   "execution_count": 83,
   "metadata": {},
   "outputs": [
    {
     "data": {
      "text/plain": [
       "array([[3639,   14,   82,   11],\n",
       "       [  23, 1063,    5,   70],\n",
       "       [  40,    2,  795,   50],\n",
       "       [   6,    3,   18, 5112]], dtype=int64)"
      ]
     },
     "execution_count": 83,
     "metadata": {},
     "output_type": "execute_result"
    }
   ],
   "source": [
    "from sklearn.metrics import confusion_matrix\n",
    "cm = confusion_matrix(Y_true,Y_pred)\n",
    "cm"
   ]
  },
  {
   "cell_type": "code",
   "execution_count": 84,
   "metadata": {},
   "outputs": [
    {
     "data": {
      "image/png": "[encoded data removed]",
      "text/plain": [
       "<Figure size 1000x1000 with 2 Axes>"
      ]
     },
     "metadata": {},
     "output_type": "display_data"
    }
   ],
   "source": [
    "plt.figure(figsize=(10,10))\n",
    "sns.heatmap(cm,annot=True,annot_kws={\"size\":8})\n",
    "plt.xlabel(\"Predicted Class\",fontsize=10)\n",
    "plt.ylabel(\"Actual Class\",fontsize=10)\n",
    "plt.title(\"Human Eye Disease Prediction Confusion Matrix\",fontsize=12)\n",
    "plt.show()"
   ]
  }
 ],
 "metadata": {
  "kernelspec": {
   "display_name": "base",
   "language": "python",
   "name": "python3"
  },
  "language_info": {
   "codemirror_mode": {
    "name": "ipython",
    "version": 3
   },
   "file_extension": ".py",
   "mimetype": "text/x-python",
   "name": "python",
   "nbconvert_exporter": "python",
   "pygments_lexer": "ipython3",
   "version": "3.12.4"
  }
 },
 "nbformat": 4,
 "nbformat_minor": 2
}
